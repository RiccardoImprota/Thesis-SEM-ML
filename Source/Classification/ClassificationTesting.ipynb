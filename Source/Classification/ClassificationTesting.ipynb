{
 "cells": [
  {
   "cell_type": "code",
   "execution_count": 1,
   "metadata": {},
   "outputs": [],
   "source": [
    "# Importing libraries for data manipulation\n",
    "import pandas as pd\n",
    "import numpy as np\n",
    "import matplotlib.pyplot as plt\n",
    "\n",
    "# Importing libraries for machine learning\n",
    "import xgboost as xgb\n",
    "from sklearn.linear_model import LogisticRegression\n",
    "from sklearn.ensemble import RandomForestClassifier\n",
    "from sklearn.metrics import confusion_matrix, classification_report\n",
    "from sklearn.metrics import accuracy_score,precision_score,recall_score\n",
    "from sklearn.pipeline import Pipeline\n",
    "from sklearn.impute import SimpleImputer\n",
    "from joblib import dump,load\n",
    "import json\n",
    "\n",
    "\n",
    "# Importing libraries for hyperparameter optimization\n",
    "from skopt import BayesSearchCV\n",
    "from skopt.space import Real, Categorical, Integer\n",
    "# Display setting for exploration\n",
    "pd.set_option('display.max_columns', None)\n",
    "pd.set_option('display.max_colwidth', None)"
   ]
  },
  {
   "cell_type": "code",
   "execution_count": 2,
   "metadata": {},
   "outputs": [
    {
     "name": "stdout",
     "output_type": "stream",
     "text": [
      "environment:  c:\\Users\\ricca\\anaconda3\\envs\\Thesis\\python.exe\n",
      "working directory:  C:/Users/ricca/Documents/GitHub/Thesis-SEM-ML\n"
     ]
    }
   ],
   "source": [
    "# Check out if the environment is the correct Anaconda one\n",
    "import sys\n",
    "print('environment: ',sys.executable)\n",
    "\n",
    "# Set up directory to be the github repository\n",
    "# requires git\n",
    "import os\n",
    "import subprocess\n",
    "os.getcwd()\n",
    "output = subprocess.check_output(['git', 'rev-parse', '--show-toplevel'])\n",
    "path = output.decode('utf-8').strip()\n",
    "print('working directory: ',path)\n",
    "os.chdir(path)\n"
   ]
  },
  {
   "cell_type": "code",
   "execution_count": 3,
   "metadata": {},
   "outputs": [
    {
     "name": "stderr",
     "output_type": "stream",
     "text": [
      "Using `tqdm.autonotebook.tqdm` in notebook mode. Use `tqdm.tqdm` instead to force console mode (e.g. in jupyter console)\n"
     ]
    }
   ],
   "source": [
    "from Source.DataPreparation.DataProcessor import DataProcessor\n",
    "from Source.Classification.observed_variables_classification import GBoostClassification, LogisticRegressionClass\n",
    "default_rs=42"
   ]
  },
  {
   "cell_type": "code",
   "execution_count": 4,
   "metadata": {},
   "outputs": [
    {
     "name": "stdout",
     "output_type": "stream",
     "text": [
      "The dataframe was loaded\n",
      "A Train-Test split was performed with a test size of 0.3\n",
      "Datasets were saved\n",
      "Starting the CFA\n"
     ]
    }
   ],
   "source": [
    "processorclass=DataProcessor()\n",
    "processorclass.read_df()\n",
    "processorclass.split_data(random_state=default_rs)\n",
    "processorclass.save_data()\n",
    "processorclass.process_CFA()"
   ]
  },
  {
   "cell_type": "code",
   "execution_count": 5,
   "metadata": {},
   "outputs": [
    {
     "name": "stdout",
     "output_type": "stream",
     "text": [
      "Values of the classes 1 and 2 were combined.\n",
      "Accuracy of a random classifier: 0.3401\n",
      "Accuracy of a majority classifier: 0.4525\n",
      "Values of the classes 1 and 2 were combined.\n",
      "Accuracy of a random classifier: 0.3229\n",
      "Accuracy of a majority classifier: 0.3827\n",
      "Values of the classes 1 and 2 were combined.\n",
      "Accuracy of a random classifier: 0.3296\n",
      "Accuracy of a majority classifier: 0.4637\n"
     ]
    }
   ],
   "source": [
    "for dimension in ['eng_timeflies', 'eng_enthusiastic', 'eng_energy']:\n",
    "    X_train,y_train,X_test,y_test = processorclass.train_test_data_for_WEtarget(target_variable=dimension,combineseldom=True)\n",
    "    \n",
    "    # Count the number of instances for each class in the test set\n",
    "    class_counts = np.bincount(y_test)\n",
    "\n",
    "    # Compute the relative frequencies\n",
    "    class_probabilities = class_counts / len(y_test)\n",
    "\n",
    "    # Compute the random classifier accuracy\n",
    "    random_accuracy = np.sum(class_probabilities**2)\n",
    "\n",
    "    print(f\"Accuracy of a random classifier: {random_accuracy:.4f}\")\n",
    "\n",
    "    majority_class = np.argmax(class_counts)\n",
    "    majority_accuracy = class_counts[majority_class] / len(y_test)\n",
    "\n",
    "    print(f\"Accuracy of a majority classifier: {majority_accuracy:.4f}\")\n"
   ]
  },
  {
   "cell_type": "code",
   "execution_count": null,
   "metadata": {},
   "outputs": [],
   "source": []
  }
 ],
 "metadata": {
  "kernelspec": {
   "display_name": "Thesis",
   "language": "python",
   "name": "python3"
  },
  "language_info": {
   "codemirror_mode": {
    "name": "ipython",
    "version": 3
   },
   "file_extension": ".py",
   "mimetype": "text/x-python",
   "name": "python",
   "nbconvert_exporter": "python",
   "pygments_lexer": "ipython3",
   "version": "3.9.17"
  },
  "orig_nbformat": 4
 },
 "nbformat": 4,
 "nbformat_minor": 2
}
